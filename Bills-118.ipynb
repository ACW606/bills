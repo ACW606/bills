{
 "cells": [
  {
   "cell_type": "markdown",
   "id": "e3c44cb5-98a6-4704-887b-dcb206476a19",
   "metadata": {},
   "source": [
    "## Imports"
   ]
  },
  {
   "cell_type": "code",
   "execution_count": null,
   "id": "664df793-1166-4540-8622-70305f3ce8c2",
   "metadata": {},
   "outputs": [],
   "source": [
    "import pandas as pd"
   ]
  },
  {
   "cell_type": "code",
   "execution_count": 61,
   "id": "ed8fffe7-7001-4e44-a3fb-3c8d50fe9e5b",
   "metadata": {},
   "outputs": [],
   "source": [
    "import matplotlib.pyplot as plt"
   ]
  },
  {
   "cell_type": "code",
   "execution_count": 62,
   "id": "5ac92bf4-157b-47cd-b110-b34bbcfc36cf",
   "metadata": {},
   "outputs": [],
   "source": [
    "import seaborn as sns"
   ]
  },
  {
   "cell_type": "markdown",
   "id": "db3a249c-f9df-4562-b249-a2f13f43975b",
   "metadata": {},
   "source": [
    "## Variables"
   ]
  },
  {
   "cell_type": "code",
   "execution_count": 34,
   "id": "00555bed-115c-4f44-86c5-3b7a5df32cdb",
   "metadata": {},
   "outputs": [],
   "source": [
    "dir1 = \"/home/aweidman/data/bills_1Nov2023/\""
   ]
  },
  {
   "cell_type": "code",
   "execution_count": 46,
   "id": "fee8f1e0-75f1-4a01-8808-9693c87f5fc7",
   "metadata": {},
   "outputs": [],
   "source": [
    "csv_bills = dir1+\"bills.csv\""
   ]
  },
  {
   "cell_type": "code",
   "execution_count": 47,
   "id": "1b46aecf-4e40-4caa-9c3a-d079d4a83028",
   "metadata": {},
   "outputs": [],
   "source": [
    "csv_people = dir1+\"people.csv\""
   ]
  },
  {
   "cell_type": "code",
   "execution_count": 48,
   "id": "96b6e8ff-658d-4c44-939b-d9e2f100c611",
   "metadata": {},
   "outputs": [],
   "source": [
    "csv_sponsors = dir1+\"sponsors.csv\""
   ]
  },
  {
   "cell_type": "code",
   "execution_count": 49,
   "id": "1abbca34-32e5-4919-982b-bef757eef705",
   "metadata": {},
   "outputs": [],
   "source": [
    "csv_history = dir1+\"history.csv\""
   ]
  },
  {
   "cell_type": "code",
   "execution_count": 50,
   "id": "9ef751fa-3170-4c32-8ff7-c0ed4415b67d",
   "metadata": {},
   "outputs": [],
   "source": [
    "csv_votes = dir1+\"votes.csv\""
   ]
  },
  {
   "cell_type": "code",
   "execution_count": 51,
   "id": "47c9a693-9a58-4bbc-9339-3788a25602f5",
   "metadata": {},
   "outputs": [],
   "source": [
    "csv_documents = dir1+\"documents.csv\""
   ]
  },
  {
   "cell_type": "markdown",
   "id": "86f9d1a3-70a9-49bc-b86f-570ac1eae647",
   "metadata": {},
   "source": [
    "## Dataframe1: Bills"
   ]
  },
  {
   "cell_type": "code",
   "execution_count": 52,
   "id": "ef9fc07b-5907-4468-820a-36b5c20b5356",
   "metadata": {},
   "outputs": [],
   "source": [
    "df_bills = pd.read_csv(csv_bills)"
   ]
  },
  {
   "cell_type": "code",
   "execution_count": 31,
   "id": "59df106f-61eb-49ae-bc24-c7e0e57d6d46",
   "metadata": {},
   "outputs": [
    {
     "data": {
      "text/html": [
       "<div>\n",
       "<style scoped>\n",
       "    .dataframe tbody tr th:only-of-type {\n",
       "        vertical-align: middle;\n",
       "    }\n",
       "\n",
       "    .dataframe tbody tr th {\n",
       "        vertical-align: top;\n",
       "    }\n",
       "\n",
       "    .dataframe thead th {\n",
       "        text-align: right;\n",
       "    }\n",
       "</style>\n",
       "<table border=\"1\" class=\"dataframe\">\n",
       "  <thead>\n",
       "    <tr style=\"text-align: right;\">\n",
       "      <th></th>\n",
       "      <th>bill_id</th>\n",
       "      <th>session_id</th>\n",
       "      <th>bill_number</th>\n",
       "      <th>status</th>\n",
       "      <th>status_desc</th>\n",
       "      <th>status_date</th>\n",
       "      <th>title</th>\n",
       "      <th>description</th>\n",
       "      <th>committee_id</th>\n",
       "      <th>committee</th>\n",
       "      <th>last_action_date</th>\n",
       "      <th>last_action</th>\n",
       "      <th>url</th>\n",
       "      <th>state_link</th>\n",
       "    </tr>\n",
       "  </thead>\n",
       "  <tbody>\n",
       "    <tr>\n",
       "      <th>0</th>\n",
       "      <td>1741372</td>\n",
       "      <td>2041</td>\n",
       "      <td>HB1</td>\n",
       "      <td>1</td>\n",
       "      <td>Introduced</td>\n",
       "      <td>2023-03-14</td>\n",
       "      <td>Water Quality Certification and Energy Project...</td>\n",
       "      <td>To lower energy costs by increasing American e...</td>\n",
       "      <td>0</td>\n",
       "      <td>NaN</td>\n",
       "      <td>2023-03-30</td>\n",
       "      <td>The Clerk was authorized to correct section nu...</td>\n",
       "      <td>https://legiscan.com/US/bill/HB1/2023</td>\n",
       "      <td>https://www.congress.gov/bill/118th-congress/h...</td>\n",
       "    </tr>\n",
       "    <tr>\n",
       "      <th>1</th>\n",
       "      <td>1760974</td>\n",
       "      <td>2041</td>\n",
       "      <td>HB2</td>\n",
       "      <td>2</td>\n",
       "      <td>Engrossed</td>\n",
       "      <td>2023-05-15</td>\n",
       "      <td>Secure the Border Act of 2023</td>\n",
       "      <td>To secure the borders of the United States, an...</td>\n",
       "      <td>0</td>\n",
       "      <td>NaN</td>\n",
       "      <td>2023-05-16</td>\n",
       "      <td>Read the second time. Placed on Senate Legisla...</td>\n",
       "      <td>https://legiscan.com/US/bill/HB2/2023</td>\n",
       "      <td>https://www.congress.gov/bill/118th-congress/h...</td>\n",
       "    </tr>\n",
       "  </tbody>\n",
       "</table>\n",
       "</div>"
      ],
      "text/plain": [
       "   bill_id  session_id bill_number  status status_desc status_date   \n",
       "0  1741372        2041         HB1       1  Introduced  2023-03-14  \\\n",
       "1  1760974        2041         HB2       2   Engrossed  2023-05-15   \n",
       "\n",
       "                                               title   \n",
       "0  Water Quality Certification and Energy Project...  \\\n",
       "1                      Secure the Border Act of 2023   \n",
       "\n",
       "                                         description  committee_id committee   \n",
       "0  To lower energy costs by increasing American e...             0       NaN  \\\n",
       "1  To secure the borders of the United States, an...             0       NaN   \n",
       "\n",
       "  last_action_date                                        last_action   \n",
       "0       2023-03-30  The Clerk was authorized to correct section nu...  \\\n",
       "1       2023-05-16  Read the second time. Placed on Senate Legisla...   \n",
       "\n",
       "                                     url   \n",
       "0  https://legiscan.com/US/bill/HB1/2023  \\\n",
       "1  https://legiscan.com/US/bill/HB2/2023   \n",
       "\n",
       "                                          state_link  \n",
       "0  https://www.congress.gov/bill/118th-congress/h...  \n",
       "1  https://www.congress.gov/bill/118th-congress/h...  "
      ]
     },
     "execution_count": 31,
     "metadata": {},
     "output_type": "execute_result"
    }
   ],
   "source": [
    "df_bills.head(2)"
   ]
  },
  {
   "cell_type": "code",
   "execution_count": 32,
   "id": "d86454f9-943a-418d-a91a-ae9e48a01f05",
   "metadata": {},
   "outputs": [
    {
     "name": "stdout",
     "output_type": "stream",
     "text": [
      "<class 'pandas.core.frame.DataFrame'>\n",
      "RangeIndex: 10758 entries, 0 to 10757\n",
      "Data columns (total 14 columns):\n",
      " #   Column            Non-Null Count  Dtype \n",
      "---  ------            --------------  ----- \n",
      " 0   bill_id           10758 non-null  int64 \n",
      " 1   session_id        10758 non-null  int64 \n",
      " 2   bill_number       10758 non-null  object\n",
      " 3   status            10758 non-null  int64 \n",
      " 4   status_desc       10758 non-null  object\n",
      " 5   status_date       10758 non-null  object\n",
      " 6   title             10758 non-null  object\n",
      " 7   description       10758 non-null  object\n",
      " 8   committee_id      10758 non-null  int64 \n",
      " 9   committee         9425 non-null   object\n",
      " 10  last_action_date  10758 non-null  object\n",
      " 11  last_action       10758 non-null  object\n",
      " 12  url               10758 non-null  object\n",
      " 13  state_link        10758 non-null  object\n",
      "dtypes: int64(4), object(10)\n",
      "memory usage: 1.1+ MB\n"
     ]
    }
   ],
   "source": [
    "df_bills.info()"
   ]
  },
  {
   "cell_type": "markdown",
   "id": "0801c726-597d-49ba-befe-54d3838aaff8",
   "metadata": {},
   "source": [
    "## Dataframe2: People"
   ]
  },
  {
   "cell_type": "code",
   "execution_count": 38,
   "id": "a61d2961-0af1-4e59-adbb-27fe3a16418a",
   "metadata": {},
   "outputs": [],
   "source": [
    "df_people = pd.read_csv(csv_people)"
   ]
  },
  {
   "cell_type": "code",
   "execution_count": 39,
   "id": "7808ba1c-3601-42ca-8eb6-03a98de8e54d",
   "metadata": {},
   "outputs": [
    {
     "data": {
      "text/html": [
       "<div>\n",
       "<style scoped>\n",
       "    .dataframe tbody tr th:only-of-type {\n",
       "        vertical-align: middle;\n",
       "    }\n",
       "\n",
       "    .dataframe tbody tr th {\n",
       "        vertical-align: top;\n",
       "    }\n",
       "\n",
       "    .dataframe thead th {\n",
       "        text-align: right;\n",
       "    }\n",
       "</style>\n",
       "<table border=\"1\" class=\"dataframe\">\n",
       "  <thead>\n",
       "    <tr style=\"text-align: right;\">\n",
       "      <th></th>\n",
       "      <th>people_id</th>\n",
       "      <th>name</th>\n",
       "      <th>first_name</th>\n",
       "      <th>middle_name</th>\n",
       "      <th>last_name</th>\n",
       "      <th>suffix</th>\n",
       "      <th>nickname</th>\n",
       "      <th>party_id</th>\n",
       "      <th>party</th>\n",
       "      <th>role_id</th>\n",
       "      <th>role</th>\n",
       "      <th>district</th>\n",
       "      <th>followthemoney_eid</th>\n",
       "      <th>votesmart_id</th>\n",
       "      <th>opensecrets_id</th>\n",
       "      <th>ballotpedia</th>\n",
       "      <th>knowwho_pid</th>\n",
       "      <th>committee_id</th>\n",
       "    </tr>\n",
       "  </thead>\n",
       "  <tbody>\n",
       "    <tr>\n",
       "      <th>0</th>\n",
       "      <td>8955</td>\n",
       "      <td>Nydia Velazquez</td>\n",
       "      <td>Nydia</td>\n",
       "      <td>M.</td>\n",
       "      <td>Velazquez</td>\n",
       "      <td>NaN</td>\n",
       "      <td>NaN</td>\n",
       "      <td>1</td>\n",
       "      <td>D</td>\n",
       "      <td>1</td>\n",
       "      <td>Rep</td>\n",
       "      <td>HD-NY-7</td>\n",
       "      <td>17658223</td>\n",
       "      <td>26975</td>\n",
       "      <td>N00001102</td>\n",
       "      <td>Nydia_Velazquez</td>\n",
       "      <td>158981</td>\n",
       "      <td>0</td>\n",
       "    </tr>\n",
       "    <tr>\n",
       "      <th>1</th>\n",
       "      <td>8957</td>\n",
       "      <td>Frank Pallone</td>\n",
       "      <td>Frank</td>\n",
       "      <td>NaN</td>\n",
       "      <td>Pallone</td>\n",
       "      <td>Jr.</td>\n",
       "      <td>NaN</td>\n",
       "      <td>1</td>\n",
       "      <td>D</td>\n",
       "      <td>1</td>\n",
       "      <td>Rep</td>\n",
       "      <td>HD-NJ-6</td>\n",
       "      <td>17658803</td>\n",
       "      <td>26951</td>\n",
       "      <td>N00000781</td>\n",
       "      <td>Frank_Pallone</td>\n",
       "      <td>158957</td>\n",
       "      <td>0</td>\n",
       "    </tr>\n",
       "  </tbody>\n",
       "</table>\n",
       "</div>"
      ],
      "text/plain": [
       "   people_id             name first_name middle_name  last_name suffix   \n",
       "0       8955  Nydia Velazquez      Nydia          M.  Velazquez    NaN  \\\n",
       "1       8957    Frank Pallone      Frank         NaN    Pallone    Jr.   \n",
       "\n",
       "  nickname  party_id party  role_id role district  followthemoney_eid   \n",
       "0      NaN         1     D        1  Rep  HD-NY-7            17658223  \\\n",
       "1      NaN         1     D        1  Rep  HD-NJ-6            17658803   \n",
       "\n",
       "   votesmart_id opensecrets_id      ballotpedia  knowwho_pid  committee_id  \n",
       "0         26975      N00001102  Nydia_Velazquez       158981             0  \n",
       "1         26951      N00000781    Frank_Pallone       158957             0  "
      ]
     },
     "execution_count": 39,
     "metadata": {},
     "output_type": "execute_result"
    }
   ],
   "source": [
    "df_people.head(2)"
   ]
  },
  {
   "cell_type": "code",
   "execution_count": 40,
   "id": "02c02898-0e4e-40fd-99e6-b494ec87ec9d",
   "metadata": {},
   "outputs": [
    {
     "name": "stdout",
     "output_type": "stream",
     "text": [
      "<class 'pandas.core.frame.DataFrame'>\n",
      "RangeIndex: 542 entries, 0 to 541\n",
      "Data columns (total 18 columns):\n",
      " #   Column              Non-Null Count  Dtype \n",
      "---  ------              --------------  ----- \n",
      " 0   people_id           542 non-null    int64 \n",
      " 1   name                542 non-null    object\n",
      " 2   first_name          542 non-null    object\n",
      " 3   middle_name         183 non-null    object\n",
      " 4   last_name           542 non-null    object\n",
      " 5   suffix              21 non-null     object\n",
      " 6   nickname            41 non-null     object\n",
      " 7   party_id            542 non-null    int64 \n",
      " 8   party               542 non-null    object\n",
      " 9   role_id             542 non-null    int64 \n",
      " 10  role                542 non-null    object\n",
      " 11  district            542 non-null    object\n",
      " 12  followthemoney_eid  542 non-null    int64 \n",
      " 13  votesmart_id        542 non-null    int64 \n",
      " 14  opensecrets_id      458 non-null    object\n",
      " 15  ballotpedia         542 non-null    object\n",
      " 16  knowwho_pid         542 non-null    int64 \n",
      " 17  committee_id        542 non-null    int64 \n",
      "dtypes: int64(7), object(11)\n",
      "memory usage: 76.3+ KB\n"
     ]
    }
   ],
   "source": [
    "df_people.info()"
   ]
  },
  {
   "cell_type": "markdown",
   "id": "17d187e1-6b0e-43dd-891b-8425f31fd9fd",
   "metadata": {},
   "source": [
    "##  Dataframe3: Sponsors"
   ]
  },
  {
   "cell_type": "code",
   "execution_count": 43,
   "id": "c5222b4c-7122-4482-a75e-4017f29592fc",
   "metadata": {},
   "outputs": [],
   "source": [
    "df_sponsors = pd.read_csv(csv_sponsors)"
   ]
  },
  {
   "cell_type": "code",
   "execution_count": 44,
   "id": "784f00f2-9ca1-4f85-84b2-138df59ef3eb",
   "metadata": {},
   "outputs": [
    {
     "data": {
      "text/html": [
       "<div>\n",
       "<style scoped>\n",
       "    .dataframe tbody tr th:only-of-type {\n",
       "        vertical-align: middle;\n",
       "    }\n",
       "\n",
       "    .dataframe tbody tr th {\n",
       "        vertical-align: top;\n",
       "    }\n",
       "\n",
       "    .dataframe thead th {\n",
       "        text-align: right;\n",
       "    }\n",
       "</style>\n",
       "<table border=\"1\" class=\"dataframe\">\n",
       "  <thead>\n",
       "    <tr style=\"text-align: right;\">\n",
       "      <th></th>\n",
       "      <th>bill_id</th>\n",
       "      <th>people_id</th>\n",
       "      <th>position</th>\n",
       "    </tr>\n",
       "  </thead>\n",
       "  <tbody>\n",
       "    <tr>\n",
       "      <th>0</th>\n",
       "      <td>1642307</td>\n",
       "      <td>9414</td>\n",
       "      <td>1</td>\n",
       "    </tr>\n",
       "    <tr>\n",
       "      <th>1</th>\n",
       "      <td>1642332</td>\n",
       "      <td>9414</td>\n",
       "      <td>1</td>\n",
       "    </tr>\n",
       "  </tbody>\n",
       "</table>\n",
       "</div>"
      ],
      "text/plain": [
       "   bill_id  people_id  position\n",
       "0  1642307       9414         1\n",
       "1  1642332       9414         1"
      ]
     },
     "execution_count": 44,
     "metadata": {},
     "output_type": "execute_result"
    }
   ],
   "source": [
    "df_sponsors.head(2)"
   ]
  },
  {
   "cell_type": "markdown",
   "id": "4d7c7cf1-412c-4bd2-ab6a-2b6b034d8ad4",
   "metadata": {},
   "source": [
    "## Dataframe4: History"
   ]
  },
  {
   "cell_type": "code",
   "execution_count": 53,
   "id": "1b1557c8-4ff5-43c2-a25f-543d7289f095",
   "metadata": {},
   "outputs": [],
   "source": [
    "df_history = pd.read_csv(csv_history)"
   ]
  },
  {
   "cell_type": "code",
   "execution_count": 54,
   "id": "471fefcc-eaea-4a97-9627-de2ebad2eb8a",
   "metadata": {},
   "outputs": [
    {
     "data": {
      "text/html": [
       "<div>\n",
       "<style scoped>\n",
       "    .dataframe tbody tr th:only-of-type {\n",
       "        vertical-align: middle;\n",
       "    }\n",
       "\n",
       "    .dataframe tbody tr th {\n",
       "        vertical-align: top;\n",
       "    }\n",
       "\n",
       "    .dataframe thead th {\n",
       "        text-align: right;\n",
       "    }\n",
       "</style>\n",
       "<table border=\"1\" class=\"dataframe\">\n",
       "  <thead>\n",
       "    <tr style=\"text-align: right;\">\n",
       "      <th></th>\n",
       "      <th>bill_id</th>\n",
       "      <th>date</th>\n",
       "      <th>chamber</th>\n",
       "      <th>sequence</th>\n",
       "      <th>action</th>\n",
       "    </tr>\n",
       "  </thead>\n",
       "  <tbody>\n",
       "    <tr>\n",
       "      <th>0</th>\n",
       "      <td>1642307</td>\n",
       "      <td>2023-01-03</td>\n",
       "      <td>Senate</td>\n",
       "      <td>1</td>\n",
       "      <td>Submitted in the Senate, considered, and agree...</td>\n",
       "    </tr>\n",
       "    <tr>\n",
       "      <th>1</th>\n",
       "      <td>1642332</td>\n",
       "      <td>2023-01-03</td>\n",
       "      <td>Senate</td>\n",
       "      <td>1</td>\n",
       "      <td>Submitted in the Senate, considered, and agree...</td>\n",
       "    </tr>\n",
       "  </tbody>\n",
       "</table>\n",
       "</div>"
      ],
      "text/plain": [
       "   bill_id        date chamber  sequence   \n",
       "0  1642307  2023-01-03  Senate         1  \\\n",
       "1  1642332  2023-01-03  Senate         1   \n",
       "\n",
       "                                              action  \n",
       "0  Submitted in the Senate, considered, and agree...  \n",
       "1  Submitted in the Senate, considered, and agree...  "
      ]
     },
     "execution_count": 54,
     "metadata": {},
     "output_type": "execute_result"
    }
   ],
   "source": [
    "df_history.head(2)"
   ]
  },
  {
   "cell_type": "markdown",
   "id": "b864b1fe-9f3f-43a5-a1f7-78e25716b44d",
   "metadata": {},
   "source": [
    "## Investigation1: Interested in the actions but can't read the truncated output"
   ]
  },
  {
   "cell_type": "code",
   "execution_count": 55,
   "id": "f0a9808f-f8c9-478e-be02-4521b6394633",
   "metadata": {},
   "outputs": [],
   "source": [
    "pd.set_option('display.max_colwidth',None)"
   ]
  },
  {
   "cell_type": "code",
   "execution_count": 57,
   "id": "21e6fd25-5cea-4671-b004-e6c4ab1f1729",
   "metadata": {},
   "outputs": [
    {
     "data": {
      "text/html": [
       "<div>\n",
       "<style scoped>\n",
       "    .dataframe tbody tr th:only-of-type {\n",
       "        vertical-align: middle;\n",
       "    }\n",
       "\n",
       "    .dataframe tbody tr th {\n",
       "        vertical-align: top;\n",
       "    }\n",
       "\n",
       "    .dataframe thead th {\n",
       "        text-align: right;\n",
       "    }\n",
       "</style>\n",
       "<table border=\"1\" class=\"dataframe\">\n",
       "  <thead>\n",
       "    <tr style=\"text-align: right;\">\n",
       "      <th></th>\n",
       "      <th>bill_id</th>\n",
       "      <th>date</th>\n",
       "      <th>chamber</th>\n",
       "      <th>sequence</th>\n",
       "      <th>action</th>\n",
       "    </tr>\n",
       "  </thead>\n",
       "  <tbody>\n",
       "    <tr>\n",
       "      <th>0</th>\n",
       "      <td>1642307</td>\n",
       "      <td>2023-01-03</td>\n",
       "      <td>Senate</td>\n",
       "      <td>1</td>\n",
       "      <td>Submitted in the Senate, considered, and agreed to without amendment by Unanimous Consent. (consideration: CR S7; text: CR S7)</td>\n",
       "    </tr>\n",
       "    <tr>\n",
       "      <th>1</th>\n",
       "      <td>1642332</td>\n",
       "      <td>2023-01-03</td>\n",
       "      <td>Senate</td>\n",
       "      <td>1</td>\n",
       "      <td>Submitted in the Senate, considered, and agreed to without amendment by Unanimous Consent. (consideration: CR S7; text: CR S7)</td>\n",
       "    </tr>\n",
       "    <tr>\n",
       "      <th>2</th>\n",
       "      <td>1642332</td>\n",
       "      <td>2023-01-03</td>\n",
       "      <td>Senate</td>\n",
       "      <td>2</td>\n",
       "      <td>Message on Senate action sent to the House.</td>\n",
       "    </tr>\n",
       "    <tr>\n",
       "      <th>3</th>\n",
       "      <td>1642361</td>\n",
       "      <td>2023-01-03</td>\n",
       "      <td>Senate</td>\n",
       "      <td>1</td>\n",
       "      <td>Submitted in the Senate, considered, and agreed to without amendment by Unanimous Consent. (consideration: CR S6; text: CR S6)</td>\n",
       "    </tr>\n",
       "    <tr>\n",
       "      <th>4</th>\n",
       "      <td>1642361</td>\n",
       "      <td>2023-01-03</td>\n",
       "      <td>Senate</td>\n",
       "      <td>2</td>\n",
       "      <td>Message on Senate action sent to the House.</td>\n",
       "    </tr>\n",
       "    <tr>\n",
       "      <th>5</th>\n",
       "      <td>1642389</td>\n",
       "      <td>2023-01-03</td>\n",
       "      <td>Senate</td>\n",
       "      <td>1</td>\n",
       "      <td>Submitted in the Senate, considered, and agreed to without amendment by Unanimous Consent. (consideration: CR S7; text: CR S7)</td>\n",
       "    </tr>\n",
       "    <tr>\n",
       "      <th>6</th>\n",
       "      <td>1642421</td>\n",
       "      <td>2023-01-03</td>\n",
       "      <td>Senate</td>\n",
       "      <td>1</td>\n",
       "      <td>Submitted in the Senate. Placed on Senate Legislative Calendar under Over, Under the Rule.</td>\n",
       "    </tr>\n",
       "    <tr>\n",
       "      <th>7</th>\n",
       "      <td>1642453</td>\n",
       "      <td>2023-01-03</td>\n",
       "      <td>Senate</td>\n",
       "      <td>1</td>\n",
       "      <td>Submitted in the Senate, considered, and agreed to without amendment by Unanimous Consent. (consideration: CR S7; text: CR S7)</td>\n",
       "    </tr>\n",
       "    <tr>\n",
       "      <th>8</th>\n",
       "      <td>1642480</td>\n",
       "      <td>2023-01-03</td>\n",
       "      <td>Senate</td>\n",
       "      <td>1</td>\n",
       "      <td>Submitted in the Senate, considered, and agreed to without amendment by Unanimous Consent. (consideration: CR S6; text: CR S6)</td>\n",
       "    </tr>\n",
       "    <tr>\n",
       "      <th>9</th>\n",
       "      <td>1642512</td>\n",
       "      <td>2023-01-03</td>\n",
       "      <td>Senate</td>\n",
       "      <td>1</td>\n",
       "      <td>Submitted in the Senate, considered, and agreed to without amendment by Unanimous Consent. (consideration: CR S6; text: CR S6)</td>\n",
       "    </tr>\n",
       "  </tbody>\n",
       "</table>\n",
       "</div>"
      ],
      "text/plain": [
       "   bill_id        date chamber  sequence   \n",
       "0  1642307  2023-01-03  Senate         1  \\\n",
       "1  1642332  2023-01-03  Senate         1   \n",
       "2  1642332  2023-01-03  Senate         2   \n",
       "3  1642361  2023-01-03  Senate         1   \n",
       "4  1642361  2023-01-03  Senate         2   \n",
       "5  1642389  2023-01-03  Senate         1   \n",
       "6  1642421  2023-01-03  Senate         1   \n",
       "7  1642453  2023-01-03  Senate         1   \n",
       "8  1642480  2023-01-03  Senate         1   \n",
       "9  1642512  2023-01-03  Senate         1   \n",
       "\n",
       "                                                                                                                           action  \n",
       "0  Submitted in the Senate, considered, and agreed to without amendment by Unanimous Consent. (consideration: CR S7; text: CR S7)  \n",
       "1  Submitted in the Senate, considered, and agreed to without amendment by Unanimous Consent. (consideration: CR S7; text: CR S7)  \n",
       "2                                                                                     Message on Senate action sent to the House.  \n",
       "3  Submitted in the Senate, considered, and agreed to without amendment by Unanimous Consent. (consideration: CR S6; text: CR S6)  \n",
       "4                                                                                     Message on Senate action sent to the House.  \n",
       "5  Submitted in the Senate, considered, and agreed to without amendment by Unanimous Consent. (consideration: CR S7; text: CR S7)  \n",
       "6                                      Submitted in the Senate. Placed on Senate Legislative Calendar under Over, Under the Rule.  \n",
       "7  Submitted in the Senate, considered, and agreed to without amendment by Unanimous Consent. (consideration: CR S7; text: CR S7)  \n",
       "8  Submitted in the Senate, considered, and agreed to without amendment by Unanimous Consent. (consideration: CR S6; text: CR S6)  \n",
       "9  Submitted in the Senate, considered, and agreed to without amendment by Unanimous Consent. (consideration: CR S6; text: CR S6)  "
      ]
     },
     "execution_count": 57,
     "metadata": {},
     "output_type": "execute_result"
    }
   ],
   "source": [
    "df_history.head(10)"
   ]
  },
  {
   "cell_type": "markdown",
   "id": "c8ef4756-7f05-42e4-9b81-ab70790ab29d",
   "metadata": {},
   "source": [
    "## Investigation2: Interested in the different types of actions. 1st look at any 'Unanimous' actions"
   ]
  },
  {
   "cell_type": "code",
   "execution_count": 58,
   "id": "4857e566-30e0-4049-9b1e-45a707896d15",
   "metadata": {},
   "outputs": [],
   "source": [
    "df_history_1 = df_history[df_history['action'].str.contains('Unanimous')]"
   ]
  },
  {
   "cell_type": "code",
   "execution_count": 59,
   "id": "dd006cf1-0c79-481a-9bbc-293b856f8769",
   "metadata": {},
   "outputs": [
    {
     "name": "stdout",
     "output_type": "stream",
     "text": [
      "<class 'pandas.core.frame.DataFrame'>\n",
      "RangeIndex: 28101 entries, 0 to 28100\n",
      "Data columns (total 5 columns):\n",
      " #   Column    Non-Null Count  Dtype \n",
      "---  ------    --------------  ----- \n",
      " 0   bill_id   28101 non-null  int64 \n",
      " 1   date      28101 non-null  object\n",
      " 2   chamber   28101 non-null  object\n",
      " 3   sequence  28101 non-null  int64 \n",
      " 4   action    28101 non-null  object\n",
      "dtypes: int64(2), object(3)\n",
      "memory usage: 1.1+ MB\n"
     ]
    }
   ],
   "source": [
    "df_history.info()"
   ]
  },
  {
   "cell_type": "code",
   "execution_count": 60,
   "id": "71d7b3da-44df-4713-8a6c-d7e0e9be98e2",
   "metadata": {},
   "outputs": [
    {
     "name": "stdout",
     "output_type": "stream",
     "text": [
      "<class 'pandas.core.frame.DataFrame'>\n",
      "Index: 355 entries, 0 to 27979\n",
      "Data columns (total 5 columns):\n",
      " #   Column    Non-Null Count  Dtype \n",
      "---  ------    --------------  ----- \n",
      " 0   bill_id   355 non-null    int64 \n",
      " 1   date      355 non-null    object\n",
      " 2   chamber   355 non-null    object\n",
      " 3   sequence  355 non-null    int64 \n",
      " 4   action    355 non-null    object\n",
      "dtypes: int64(2), object(3)\n",
      "memory usage: 16.6+ KB\n"
     ]
    }
   ],
   "source": [
    "df_history_1.info()"
   ]
  },
  {
   "cell_type": "code",
   "execution_count": 78,
   "id": "23d85204-9319-48fa-a93b-8c71fb805e29",
   "metadata": {},
   "outputs": [
    {
     "data": {
      "text/plain": [
       "6227"
      ]
     },
     "execution_count": 78,
     "metadata": {},
     "output_type": "execute_result"
    }
   ],
   "source": [
    "df_history['action'].nunique()"
   ]
  },
  {
   "cell_type": "markdown",
   "id": "5473fcfb-dc38-4ecc-9302-c32f7b8fe65e",
   "metadata": {},
   "source": [
    "## Investigation3: 355 actions containing 'Unanimous'. There are 6227 unique actions though, so no graphing yet"
   ]
  },
  {
   "cell_type": "code",
   "execution_count": 80,
   "id": "dd84a086-7a76-4d97-87bd-1c602e8b11ed",
   "metadata": {},
   "outputs": [
    {
     "data": {
      "text/plain": [
       "action\n",
       "Introduced in House                                                                        7093\n",
       "Referred to the House Committee on Energy and Commerce.                                     811\n",
       "Referred to the Subcommittee on Health.                                                     752\n",
       "Referred to the House Committee on the Judiciary.                                           702\n",
       "Referred to the House Committee on Education and the Workforce.                             535\n",
       "Read twice and referred to the Committee on Health, Education, Labor, and Pensions.         486\n",
       "Referred to the House Committee on Ways and Means.                                          471\n",
       "Read twice and referred to the Committee on Finance.                                        417\n",
       "Referred to the House Committee on Foreign Affairs.                                         410\n",
       "Referred to the House Committee on Oversight and Accountability.                            393\n",
       "Referred to the House Committee on Financial Services.                                      362\n",
       "Referred to the House Committee on Agriculture.                                             325\n",
       "Referred to the House Committee on Natural Resources.                                       325\n",
       "Read twice and referred to the Committee on the Judiciary.                                  316\n",
       "Referred to the House Committee on Transportation and Infrastructure.                       291\n",
       "Committee Consideration and Mark-up Session Held.                                           274\n",
       "Motion to reconsider laid on the table Agreed to without objection.                         258\n",
       "Read twice and referred to the Committee on Agriculture, Nutrition, and Forestry.           251\n",
       "Read twice and referred to the Committee on Commerce, Science, and Transportation.          228\n",
       "Read twice and referred to the Committee on Homeland Security and Governmental Affairs.     219\n",
       "Name: count, dtype: int64"
      ]
     },
     "execution_count": 80,
     "metadata": {},
     "output_type": "execute_result"
    }
   ],
   "source": [
    "df_history['action'].value_counts()[:20]"
   ]
  },
  {
   "cell_type": "code",
   "execution_count": 81,
   "id": "f7ee1a46-e150-4a0f-9174-a7303a39abf7",
   "metadata": {},
   "outputs": [
    {
     "data": {
      "text/plain": [
       "263"
      ]
     },
     "execution_count": 81,
     "metadata": {},
     "output_type": "execute_result"
    }
   ],
   "source": [
    "df_history_1['action'].nunique()"
   ]
  },
  {
   "cell_type": "code",
   "execution_count": 83,
   "id": "9a9cab2f-8fc5-4df0-bc1e-75ad9824232e",
   "metadata": {},
   "outputs": [
    {
     "data": {
      "text/plain": [
       "action\n",
       "Senate Committee on the Judiciary discharged by Unanimous Consent.                                                                                               20\n",
       "Ordered to be Reported by Unanimous Consent.                                                                                                                     11\n",
       "Ordered to be Reported (Amended) by Unanimous Consent.                                                                                                           10\n",
       "Senate Committee on Environment and Public Works discharged by Unanimous Consent.                                                                                 5\n",
       "Submitted in the Senate, considered, and agreed to without amendment by Unanimous Consent. (consideration: CR S7; text: CR S7)                                    4\n",
       "Senate Committee on Health, Education, Labor, and Pensions discharged by Unanimous Consent.                                                                       4\n",
       "Senate Committee on Veterans' Affairs discharged by Unanimous Consent.                                                                                            4\n",
       "Submitted in the Senate, considered, and agreed to without amendment by Unanimous Consent. (consideration: CR S6; text: CR S6)                                    4\n",
       "Ordered to be Reported in the Nature of a Substitute (Amended) by Unanimous Consent.                                                                              4\n",
       "Passed Senate without amendment by Unanimous Consent. (consideration: CR S2252; text: CR S2252)                                                                   3\n",
       "Submitted in the Senate, considered, and agreed to without amendment and with a preamble by Unanimous Consent. (consideration: CR S4958; text: CR S4957)          3\n",
       "Submitted in the Senate, considered, and agreed to without amendment and with a preamble by Unanimous Consent. (consideration: CR S1377; text: CR S1392)          3\n",
       "Submitted in the Senate, considered, and agreed to without amendment and with a preamble by Unanimous Consent. (consideration: CR S5082-5083; text: CR S5091)     3\n",
       "Submitted in the Senate, considered, and agreed to without amendment and with a preamble by Unanimous Consent. (consideration: CR S1959; text: CR S1902)          3\n",
       "Submitted in the Senate, considered, and agreed to without amendment and with a preamble by Unanimous Consent. (consideration: CR S3585; text: CR S3625)          3\n",
       "Submitted in the Senate, considered, and agreed to without amendment and with a preamble by Unanimous Consent. (consideration: CR S1161; text: CR S1213)          3\n",
       "Submitted in the Senate, considered, and agreed to without amendment and with a preamble by Unanimous Consent. (consideration: CR S5219; text: CR S5218)          3\n",
       "Senate Committee on Commerce, Science, and Transportation discharged by Unanimous Consent.                                                                        3\n",
       "Submitted in the Senate, considered, and agreed to without amendment and with a preamble by Unanimous Consent. (consideration: CR S2328-2329; text: CR S2315)     2\n",
       "Resolution agreed to in Senate without amendment by Unanimous Consent. (consideration: CR S1044)                                                                  2\n",
       "Name: count, dtype: int64"
      ]
     },
     "execution_count": 83,
     "metadata": {},
     "output_type": "execute_result"
    }
   ],
   "source": [
    "df_history_1['action'].value_counts()[:20]"
   ]
  },
  {
   "cell_type": "markdown",
   "id": "ac1b8161-6a4b-4fa9-ab86-f781a044951b",
   "metadata": {},
   "source": [
    "## 263 unique actions that contain 'Unanimous' and only 3 have double digit occurrences. Also, they contain CR numbers, so this makes them unique"
   ]
  }
 ],
 "metadata": {
  "kernelspec": {
   "display_name": "Python 3 (ipykernel)",
   "language": "python",
   "name": "python3"
  },
  "language_info": {
   "codemirror_mode": {
    "name": "ipython",
    "version": 3
   },
   "file_extension": ".py",
   "mimetype": "text/x-python",
   "name": "python",
   "nbconvert_exporter": "python",
   "pygments_lexer": "ipython3",
   "version": "3.11.4"
  }
 },
 "nbformat": 4,
 "nbformat_minor": 5
}
